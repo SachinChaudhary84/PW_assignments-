{
 "cells": [
  {
   "cell_type": "code",
   "execution_count": 4,
   "id": "e432aa7a-bf06-455e-8aa2-9730d8f2d26c",
   "metadata": {},
   "outputs": [],
   "source": [
    "#Question no.1\n",
    "    \n",
    "X=23\n",
    "Y=24\n",
    "\n",
    "X,Y=Y,X\n",
    "\n"
   ]
  },
  {
   "cell_type": "code",
   "execution_count": 5,
   "id": "433bcb3e-525a-4be4-b204-617b05158ad8",
   "metadata": {},
   "outputs": [
    {
     "data": {
      "text/plain": [
       "24"
      ]
     },
     "execution_count": 5,
     "metadata": {},
     "output_type": "execute_result"
    }
   ],
   "source": [
    "X"
   ]
  },
  {
   "cell_type": "code",
   "execution_count": 6,
   "id": "874d2d7c-501e-4dc1-a80e-413909fe1ed1",
   "metadata": {},
   "outputs": [
    {
     "data": {
      "text/plain": [
       "23"
      ]
     },
     "execution_count": 6,
     "metadata": {},
     "output_type": "execute_result"
    }
   ],
   "source": [
    "Y"
   ]
  },
  {
   "cell_type": "code",
   "execution_count": 15,
   "id": "80f2721b-c771-4c1c-a17c-2d09226bb427",
   "metadata": {},
   "outputs": [
    {
     "name": "stdin",
     "output_type": "stream",
     "text": [
      "enter the lenghth of rectangle: 23\n",
      "enter the width of rectangle: 45\n"
     ]
    },
    {
     "name": "stdout",
     "output_type": "stream",
     "text": [
      "Area of rectangle is 1035\n"
     ]
    }
   ],
   "source": [
    "#Question no.2\n",
    "\n",
    "l=int(input(\"enter the lenghth of rectangle:\"))\n",
    "w=int(input(\"enter the width of rectangle:\"))   \n",
    "#A=area of rectangle\n",
    "\n",
    "A=w*l\n",
    "\n",
    "print(f\"Area of rectangle is {A}\")\n",
    "\n"
   ]
  },
  {
   "cell_type": "code",
   "execution_count": 17,
   "id": "56f4028d-6624-415c-b63f-197d596a3e84",
   "metadata": {},
   "outputs": [
    {
     "name": "stdin",
     "output_type": "stream",
     "text": [
      "enter the temprature in Celsius: 40\n"
     ]
    },
    {
     "name": "stdout",
     "output_type": "stream",
     "text": [
      "temprature today=104.0 F\n"
     ]
    }
   ],
   "source": [
    "#Question no.3\n",
    "\n",
    "temp=float(input(\"enter the temprature in Celsius:\"))\n",
    "\n",
    "temp_f=(temp*1.8)+32\n",
    "\n",
    "print(\"temprature today={} F\".format(temp_f))"
   ]
  },
  {
   "cell_type": "code",
   "execution_count": null,
   "id": "befbd81c-4b71-4d0e-a253-0edb580db590",
   "metadata": {},
   "outputs": [],
   "source": [
    "#TOPIC: String Based Questions"
   ]
  },
  {
   "cell_type": "code",
   "execution_count": 19,
   "id": "91e94f63-add9-4229-98c3-25c8069a9b62",
   "metadata": {},
   "outputs": [
    {
     "name": "stdin",
     "output_type": "stream",
     "text": [
      "enter text here: My name is sachin\n"
     ]
    },
    {
     "name": "stdout",
     "output_type": "stream",
     "text": [
      "lenght of the text is 17\n"
     ]
    }
   ],
   "source": [
    "#Question no.1\n",
    "\n",
    "l=input(\"enter text here:\")\n",
    "\n",
    "x=len(l)\n",
    "\n",
    "print(f\"lenght of the text is {x}\")"
   ]
  },
  {
   "cell_type": "code",
   "execution_count": 11,
   "id": "471a4d1b-618f-44f4-80ac-e21bdf6f5534",
   "metadata": {},
   "outputs": [
    {
     "name": "stdin",
     "output_type": "stream",
     "text": [
      "Please enter the text: I am learning the Python\n"
     ]
    },
    {
     "name": "stdout",
     "output_type": "stream",
     "text": [
      "7\n"
     ]
    }
   ],
   "source": [
    "#Question no.2\n",
    "text=input(\"Please enter the text:\")\n",
    "\n",
    "count=0\n",
    "text=text.lower()\n",
    "for i in text:\n",
    "    if i==\"a\" or i==\"e\" or i==\"i\" or i==\"o\" or i==\"u\":\n",
    "        count+=1\n",
    "print(count)"
   ]
  },
  {
   "cell_type": "code",
   "execution_count": 12,
   "id": "1e0a666a-b3fa-476c-9e77-546164fbd29e",
   "metadata": {},
   "outputs": [
    {
     "data": {
      "text/plain": [
       "'nihcaS'"
      ]
     },
     "execution_count": 12,
     "metadata": {},
     "output_type": "execute_result"
    }
   ],
   "source": [
    "#Question no.3\n",
    "\n",
    "X=\"Sachin\"\n",
    "\n",
    "X[::-1]"
   ]
  },
  {
   "cell_type": "code",
   "execution_count": 4,
   "id": "376af45c-cff4-47b9-b8e8-7a804f91c7c0",
   "metadata": {},
   "outputs": [
    {
     "name": "stdout",
     "output_type": "stream",
     "text": [
      "The value in malayalam is a palindrome \n"
     ]
    }
   ],
   "source": [
    "#Question no.4\n",
    "y=\"malayalam\"\n",
    "\n",
    "x=y[::-1]\n",
    "\n",
    "if x==y:\n",
    "    print(f\"The value in {y} is a palindrome \")\n",
    "else:\n",
    "    print(f\"The value in {y} is not a palindrome \")"
   ]
  },
  {
   "cell_type": "code",
   "execution_count": 5,
   "id": "fea92b73-7738-4512-ab7a-a1b65e2a3b46",
   "metadata": {},
   "outputs": [],
   "source": [
    "#Question no.5"
   ]
  },
  {
   "cell_type": "code",
   "execution_count": 8,
   "id": "545c87ef-9bb3-4a82-8835-193916af23db",
   "metadata": {},
   "outputs": [
    {
     "name": "stdin",
     "output_type": "stream",
     "text": [
      "Please enter the string : My name is Sachin Chaudhary\n"
     ]
    },
    {
     "data": {
      "text/plain": [
       "'MynameisSachinChaudhary'"
      ]
     },
     "execution_count": 8,
     "metadata": {},
     "output_type": "execute_result"
    }
   ],
   "source": [
    "x=input(\"Please enter the string :\")\n",
    "\n",
    "x.replace(\" \",\"\")"
   ]
  },
  {
   "cell_type": "code",
   "execution_count": null,
   "id": "a63c40fe-817b-4bf3-8deb-45707ededbdf",
   "metadata": {},
   "outputs": [],
   "source": []
  }
 ],
 "metadata": {
  "kernelspec": {
   "display_name": "Python 3 (ipykernel)",
   "language": "python",
   "name": "python3"
  },
  "language_info": {
   "codemirror_mode": {
    "name": "ipython",
    "version": 3
   },
   "file_extension": ".py",
   "mimetype": "text/x-python",
   "name": "python",
   "nbconvert_exporter": "python",
   "pygments_lexer": "ipython3",
   "version": "3.10.8"
  }
 },
 "nbformat": 4,
 "nbformat_minor": 5
}
