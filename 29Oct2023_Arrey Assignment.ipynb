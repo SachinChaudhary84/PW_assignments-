{
 "cells": [
  {
   "cell_type": "code",
   "execution_count": 58,
   "id": "8116f2bc-06ee-4d3c-a760-146ef9017bf2",
   "metadata": {},
   "outputs": [
    {
     "data": {
      "text/plain": [
       "True"
      ]
     },
     "execution_count": 58,
     "metadata": {},
     "output_type": "execute_result"
    }
   ],
   "source": [
    "#Question 1. Given an array, check if it contains any duplicates or not. arr = [1, 2, 4, 2, 5, 9] Output = True\n",
    "\n",
    "arr = [1, 4, 4, 2, 5, 9]\n",
    "\n",
    "def find_duplicate(arr):\n",
    "    for i in range (len(arr)):\n",
    "        for j in range (i+1,len(arr)):\n",
    "            if arr[i]==arr[j]:\n",
    "                return True\n",
    "    return False        \n",
    "\n",
    "find_duplicate(arr)\n",
    "            "
   ]
  },
  {
   "cell_type": "code",
   "execution_count": 17,
   "id": "f2346ce0-f26b-46ce-910a-c15009d1d6fe",
   "metadata": {},
   "outputs": [],
   "source": [
    "#Question 2. Given an array and an integer k, rotate the array to the right by k steps.\n",
    "#arr = [1, 2, 3, 4, 5, 6, 7] k = 3  Output = [5, 6, 7, 1, 2, 3, 4]\n",
    "#arr=[7,6,5,4,3,2,1]\n",
    "\n",
    "def rotate_arr(arr, start, end):\n",
    "    while start < end:\n",
    "        arr[start], arr[end] = arr[end], arr[start]\n",
    "        start += 1\n",
    "        end -= 1\n",
    "def rotate_array(arr, k):\n",
    "    k = k % len(arr)\n",
    "    rotate_arr(arr, 0, len(arr) - 1)\n",
    "    rotate_arr(arr, 0, k - 1)\n",
    "    rotate_arr(arr, k, len(arr) - 1)\n",
    "    return arr   "
   ]
  },
  {
   "cell_type": "code",
   "execution_count": 18,
   "id": "15adcaaf-70f6-4141-939c-4567a75f8d94",
   "metadata": {},
   "outputs": [
    {
     "data": {
      "text/plain": [
       "[5, 6, 7, 1, 2, 3, 4]"
      ]
     },
     "execution_count": 18,
     "metadata": {},
     "output_type": "execute_result"
    }
   ],
   "source": [
    "arr = [1, 2, 3, 4, 5, 6, 7]\n",
    "k = 3\n",
    "rotate_array(arr, k)"
   ]
  },
  {
   "cell_type": "code",
   "execution_count": 51,
   "id": "c3448d8b-768a-4b27-8748-3e11b8d4a930",
   "metadata": {},
   "outputs": [
    {
     "data": {
      "text/plain": [
       "[12, 9, 7, 5, 4, 2]"
      ]
     },
     "execution_count": 51,
     "metadata": {},
     "output_type": "execute_result"
    }
   ],
   "source": [
    "#Question3. Reverse the given array in-place, means without using any extra data structure.\n",
    "#arr = [2, 4, 5, 7, 9, 12]\n",
    "#Output = [12, 9, 7, 5, 4, 2]\n",
    "\n",
    "def revv(arr,start,end):\n",
    "    while start<end:\n",
    "        arr[start], arr[end]= arr[end], arr[start]\n",
    "        start = start + 1\n",
    "        end = end - 1\n",
    "    return arr\n",
    "\n",
    "#another method\n",
    "arr = [2, 4, 5, 7, 9, 12]\n",
    "arr[::-1]"
   ]
  },
  {
   "cell_type": "code",
   "execution_count": 49,
   "id": "ac7f9ab8-6e9f-40be-88d9-e47fc60232a2",
   "metadata": {},
   "outputs": [
    {
     "data": {
      "text/plain": [
       "[12, 9, 7, 5, 4, 2]"
      ]
     },
     "execution_count": 49,
     "metadata": {},
     "output_type": "execute_result"
    }
   ],
   "source": [
    "arr = [2, 4, 5, 7, 9, 12]\n",
    "start=0\n",
    "end=len(arr)-1\n",
    "revv(arr,0,len(arr)-1)"
   ]
  },
  {
   "cell_type": "code",
   "execution_count": 49,
   "id": "6bbc36a4-cb16-4a4f-a8a0-371b093b64c3",
   "metadata": {},
   "outputs": [
    {
     "data": {
      "text/plain": [
       "20"
      ]
     },
     "execution_count": 49,
     "metadata": {},
     "output_type": "execute_result"
    }
   ],
   "source": [
    "#Question4. Given an array of integers, find the maximum element in an array\n",
    "#arr = [10, 5, 20, 8, 15]\n",
    "#Output = 20\n",
    "\n",
    "def maxi(arr):\n",
    "    max_ele=arr[0]\n",
    "    for i in range(len(arr)):\n",
    "        if arr[i]>max_ele:\n",
    "            max_ele = arr[i]\n",
    "    return max_ele\n",
    "        \n",
    "\n",
    "arr = [10, 5, 20, 8, 15]    \n",
    "maxi(arr)       "
   ]
  },
  {
   "cell_type": "code",
   "execution_count": 79,
   "id": "00a04383-0d8c-40cf-a74e-821878cacc8f",
   "metadata": {},
   "outputs": [
    {
     "data": {
      "text/plain": [
       "[1, 2, 3, 4, 5]"
      ]
     },
     "execution_count": 79,
     "metadata": {},
     "output_type": "execute_result"
    }
   ],
   "source": [
    "#Question5. Given a sorted array, remove the duplicate element without using any extra data structure.\n",
    "arr = [1, 1, 2, 2, 2, 3, 3, 4, 4, 4, 5, 5]\n",
    "#Output = [1, 2, 3, 4, 5]\n",
    "\n",
    "(list(set(arr)))\n",
    "\n",
    "#another method\n",
    "\n",
    "arr = [1, 1, 2, 2, 2, 3, 3, 4, 4, 4, 5, 5]\n",
    "\n",
    "def removedup(arr):\n",
    "    clean=[]\n",
    "    for i in arr:\n",
    "        if i not in clean:\n",
    "            clean.append(i)\n",
    "    return (clean)\n",
    "\n",
    "removedup(arr)   \n",
    "\n",
    "#another Method\n",
    "\n",
    "clean=[]\n",
    "[clean.append(i) for i in arr if i not in clean]\n",
    "print(clean)\n"
   ]
  },
  {
   "cell_type": "code",
   "execution_count": null,
   "id": "64a4d726-5b56-42d0-8717-95c961656aaf",
   "metadata": {},
   "outputs": [],
   "source": []
  },
  {
   "cell_type": "code",
   "execution_count": null,
   "id": "adc9bc42-71db-4662-8de8-a57eddcd84c5",
   "metadata": {},
   "outputs": [],
   "source": []
  },
  {
   "cell_type": "code",
   "execution_count": null,
   "id": "8389ff84-07b5-4f61-9b1e-779519884dec",
   "metadata": {},
   "outputs": [],
   "source": []
  }
 ],
 "metadata": {
  "kernelspec": {
   "display_name": "Python 3 (ipykernel)",
   "language": "python",
   "name": "python3"
  },
  "language_info": {
   "codemirror_mode": {
    "name": "ipython",
    "version": 3
   },
   "file_extension": ".py",
   "mimetype": "text/x-python",
   "name": "python",
   "nbconvert_exporter": "python",
   "pygments_lexer": "ipython3",
   "version": "3.10.8"
  }
 },
 "nbformat": 4,
 "nbformat_minor": 5
}
